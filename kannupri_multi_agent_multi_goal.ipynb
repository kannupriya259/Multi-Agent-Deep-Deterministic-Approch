{
  "cells": [
    {
      "cell_type": "markdown",
      "id": "14bc9508",
      "metadata": {
        "id": "14bc9508"
      },
      "source": [
        "##                          ASSIGNMENT-2"
      ]
    },
    {
      "cell_type": "markdown",
      "id": "21f92716",
      "metadata": {
        "id": "21f92716"
      },
      "source": [
        "## 1. Build a grid-world environment [many agents – many goals]"
      ]
    },
    {
      "cell_type": "markdown",
      "id": "bf2cb387",
      "metadata": {
        "id": "bf2cb387"
      },
      "source": [
        "## We certify that the code and data in this assignment were generated independently, using only the tools and resources defined in the course and that we did not receive any external help, coaching or contributions during the production of this work."
      ]
    },
    {
      "cell_type": "code",
      "execution_count": null,
      "id": "0016b61a",
      "metadata": {
        "id": "0016b61a"
      },
      "outputs": [],
      "source": [
        "import numpy as np\n",
        "import gym\n",
        "from gym import spaces\n",
        "import copy\n",
        "from copy import copy\n",
        "import matplotlib.pyplot as plt\n",
        "import random\n",
        "\n",
        "class MAGridWorld(gym.Env):                                                     #creating an environment\n",
        "    metadata = { 'render.modes' : ['human', 'ansi'] }\n",
        "    def __init__(self, size, n_agents):\n",
        "        self.size = size\n",
        "        self._grid_size = (self.size, self.size)\n",
        "        self.world = np.zeros((self._grid_size))\n",
        "        self._timestep = None\n",
        "        self._max_timestep = int(self.size*4)\n",
        "        self.n_agents = n_agents\n",
        "        self.dist = int((self.size-1)/(n_agents-1))\n",
        "        self._step_cost = -0.1\n",
        "        self.observation_space = spaces.Box(low=0, high=self.size, shape=(self.size, self.size))\n",
        "        self.action_space = spaces.Discrete(5)\n",
        "        \n",
        "    def reset(self):\n",
        "        self.agent_pos = []                                                     #number of goals are given is 2 \n",
        "        self.goal_pos = []\n",
        "        self._timestep = 0\n",
        "        self.done = [False for i in range(self.n_agents)]\n",
        "        for i in range(self.n_agents):\n",
        "            self.agent_pos.append([self.size-1, i*self.dist])\n",
        "            self.goal_pos.append([0, i*self.dist])\n",
        "        self.goal_pos.reverse()\n",
        "        observation = self.agent_pos\n",
        "        return observation\n",
        "    \n",
        "    def _compute_distance(self, x, y):\n",
        "        dist = np.abs(x[0]-y[0]) + np.abs(x[1]-y[1])\n",
        "        return dist\n",
        "    \n",
        "    def _is_inside_grid(self, pos):\n",
        "        return (0 <= pos[0] < self._grid_size[0]) and (0 <= pos[1] < self._grid_size[1])\n",
        "\n",
        "    def _is_collision(self, new_pos, agent):\n",
        "        for i in range(self.n_agents):\n",
        "            if i == agent:\n",
        "                continue\n",
        "            elif new_pos == self.agent_pos[i]:\n",
        "                return True\n",
        "            elif new_pos == self.goal_pos[i]:\n",
        "                return True\n",
        "        \n",
        "    def step(self, actions):                                                   \n",
        "        self._timestep += 1\n",
        "        old_pos = self.agent_pos.copy()\n",
        "        rewards = [0 for _ in range(self.n_agents)]       \n",
        "        \n",
        "        for i in range(self.n_agents):                                          #for negative move the rewards are -0.1 and -0.5 and for positive move the rewards are 0.1 and 0.5\n",
        "            self.update_agent_pos(i, actions[i])\n",
        "            old_dist = self._compute_distance(old_pos[i], self.goal_pos[i])\n",
        "            new_dist = self._compute_distance(self.agent_pos[i], self.goal_pos[i])\n",
        "            \n",
        "            if new_dist < old_dist:\n",
        "                rewards[i] = -0.1\n",
        "            elif new_dist > old_dist:\n",
        "                rewards[i] = -0.5\n",
        "\n",
        "            elif (new_dist == old_dist) and not self.done[i]:\n",
        "                rewards[i] = -0.5\n",
        "            \n",
        "            if (self.agent_pos[i] == self.goal_pos[i]):\n",
        "                self.done[i] = True\n",
        "                rewards[i] = 1\n",
        "            else:\n",
        "                self.done[i] = False\n",
        "                    \n",
        "               \n",
        "        if self._timestep >= self._max_timestep:\n",
        "            self.done = [True for i in range(self.n_agents)]\n",
        "            \n",
        "        observation = self.agent_pos\n",
        "        info = {}\n",
        "        return observation, rewards, self.done, info #all(done)\n",
        "    \n",
        "        \n",
        "    def update_agent_pos(self, agent, action):                                  #there are 5 actions that is up,down,right,left and no move\n",
        "        next_pos = copy(self.agent_pos[agent])\n",
        "        if action == 0: # Down\n",
        "            next_pos[0] += 1\n",
        "        elif action == 1: # Up\n",
        "            next_pos[0] -= 1\n",
        "        elif action == 2: # Right\n",
        "            next_pos[1] += 1\n",
        "        elif action == 3: # Left\n",
        "            next_pos[1] -= 1\n",
        "        elif action == 4: # No move\n",
        "            pass\n",
        "        else:\n",
        "            raise Exception('Action is not valid')                              # if the action is apart from any other apart from up,down,right,left and no move it raises invalid action performed by agents\n",
        "            \n",
        "        if self._is_inside_grid(next_pos) and not self._is_collision(next_pos, agent):\n",
        "            self.agent_pos[agent] = next_pos\n",
        "        else:\n",
        "            pass\n",
        "        \n",
        "            \n",
        "    def render(self):\n",
        "        state = np.copy(self.world)\n",
        "        for i in range(self.n_agents):\n",
        "            state[tuple(self.agent_pos[i])] = 5 - (0.5 * i)\n",
        "            state[tuple(self.goal_pos[i])] = 5 - (0.5 * i)\n",
        "        return plt.imshow(state)"
      ]
    },
    {
      "cell_type": "markdown",
      "source": [
        "Testing the environment"
      ],
      "metadata": {
        "id": "6DdOUXK7GO4g"
      },
      "id": "6DdOUXK7GO4g"
    },
    {
      "cell_type": "code",
      "execution_count": null,
      "id": "2ef5c098",
      "metadata": {
        "id": "2ef5c098"
      },
      "outputs": [],
      "source": [
        "config = {\n",
        "    'N_AGENTS' : 2,                                                             #number of agents is 2\n",
        "    'GRID_SIZE' : 6,                                                            #the grid size of the environment is 6*6\n",
        "    'NUM_EPISODES': 100                                                         # the number of episodes is 100\n",
        "}"
      ]
    },
    {
      "cell_type": "code",
      "execution_count": null,
      "id": "cdfa69e8",
      "metadata": {
        "colab": {
          "base_uri": "https://localhost:8080/",
          "height": 316
        },
        "id": "cdfa69e8",
        "outputId": "782712be-afb4-480d-cdb1-d6e22312b834"
      },
      "outputs": [
        {
          "output_type": "stream",
          "name": "stdout",
          "text": [
            "state [[4, 0], [4, 5]]\n",
            "reward [-0.1, -0.1]\n",
            "done [False, False]\n"
          ]
        },
        {
          "output_type": "display_data",
          "data": {
            "text/plain": [
              "<Figure size 432x288 with 1 Axes>"
            ],
            "image/png": "[encoded data removed]"
          },
          "metadata": {
            "needs_background": "light"
          }
        }
      ],
      "source": [
        "if __name__ == '__main__':\n",
        "    n_agents = config['N_AGENTS']\n",
        "    size = config['GRID_SIZE']\n",
        "    env = MAGridWorld(size=size, n_agents=n_agents)\n",
        "    env.reset()\n",
        "    env.render()\n",
        "    action_n = [1, 1, 1, 0, 1]                                                  #the number of actions is 5\n",
        "    state, reward, done, _ = env.step(action_n)\n",
        "    print('state', state)\n",
        "    print('reward', reward)\n",
        "    print('done', done)\n",
        "    env.render()"
      ]
    },
    {
      "cell_type": "code",
      "execution_count": null,
      "id": "1d0a7ed8",
      "metadata": {
        "colab": {
          "base_uri": "https://localhost:8080/",
          "height": 1000
        },
        "id": "1d0a7ed8",
        "outputId": "c1634064-4db8-4b03-87bb-bed2a4661172"
      },
      "outputs": [
        {
          "output_type": "display_data",
          "data": {
            "text/plain": [
              "<Figure size 432x288 with 1 Axes>"
            ],
            "image/png": "[encoded data removed]"
          },
          "metadata": {
            "needs_background": "light"
          }
        },
        {
          "output_type": "display_data",
          "data": {
            "text/plain": [
              "<Figure size 432x288 with 1 Axes>"
            ],
            "image/png": "[encoded data removed]"
          },
          "metadata": {
            "needs_background": "light"
          }
        },
        {
          "output_type": "display_data",
          "data": {
            "text/plain": [
              "<Figure size 432x288 with 1 Axes>"
            ],
            "image/png": "[encoded data removed]"
          },
          "metadata": {
            "needs_background": "light"
          }
        },
        {
          "output_type": "display_data",
          "data": {
            "text/plain": [
              "<Figure size 432x288 with 1 Axes>"
            ],
            "image/png": "[encoded data removed]"
          },
          "metadata": {
            "needs_background": "light"
          }
        },
        {
          "output_type": "display_data",
          "data": {
            "text/plain": [
              "<Figure size 432x288 with 1 Axes>"
            ],
            "image/png": "[encoded data removed]"
          },
          "metadata": {
            "needs_background": "light"
          }
        },
        {
          "output_type": "display_data",
          "data": {
            "text/plain": [
              "<Figure size 432x288 with 1 Axes>"
            ],
            "image/png": "[encoded data removed]"
          },
          "metadata": {
            "needs_background": "light"
          }
        },
        {
          "output_type": "display_data",
          "data": {
            "text/plain": [
              "<Figure size 432x288 with 1 Axes>"
            ],
            "image/png": "[encoded data removed]"
          },
          "metadata": {
            "needs_background": "light"
          }
        },
        {
          "output_type": "display_data",
          "data": {
            "text/plain": [
              "<Figure size 432x288 with 1 Axes>"
            ],
            "image/png": "[encoded data removed]"
          },
          "metadata": {
            "needs_background": "light"
          }
        },
        {
          "output_type": "display_data",
          "data": {
            "text/plain": [
              "<Figure size 432x288 with 1 Axes>"
            ],
            "image/png": "[encoded data removed]"
          },
          "metadata": {
            "needs_background": "light"
          }
        },
        {
          "output_type": "display_data",
          "data": {
            "text/plain": [
              "<Figure size 432x288 with 1 Axes>"
            ],
            "image/png": "[encoded data removed]"
          },
          "metadata": {
            "needs_background": "light"
          }
        }
      ],
      "source": [
        "\n",
        "import time\n",
        "for i in range(10): # we run the agents 10 times till it reaches the goals \n",
        "  actions = []\n",
        "  for _ in range(n_agents):\n",
        "      actions.append(np.random.randint(4))\n",
        "\n",
        "  action_txt = {0:\"Down\",1:\"Up\",2:\"Right\",3:\"Left\"}\n",
        "\n",
        "#for action in actions:\n",
        "  state,reward,done,_=env.step(actions)\n",
        "  plt.figure()\n",
        "  t = \"\"\n",
        "  for a in actions:\n",
        "    t+= \" \"+action_txt[a]\n",
        "  plt.title(t)\n",
        "  env.render()\n",
        "  time.sleep(0.1)"
      ]
    },
    {
      "cell_type": "markdown",
      "source": [
        "Training"
      ],
      "metadata": {
        "id": "L_gaEwLvGR3n"
      },
      "id": "L_gaEwLvGR3n"
    },
    {
      "cell_type": "code",
      "source": [
        "q_table = np.zeros([2,6,6,5]) # q table takes the argument of number of number of agents,grid size and number of actions\n",
        "print(q_table[0][0][0])"
      ],
      "metadata": {
        "colab": {
          "base_uri": "https://localhost:8080/"
        },
        "id": "pqULDA7gNDCu",
        "outputId": "299c3379-f209-41a9-9186-9a1f15a79e08"
      },
      "id": "pqULDA7gNDCu",
      "execution_count": null,
      "outputs": [
        {
          "output_type": "stream",
          "name": "stdout",
          "text": [
            "[0. 0. 0. 0. 0.]\n"
          ]
        }
      ]
    },
    {
      "cell_type": "code",
      "source": [
        "alpha = 0.02 #learning rate \n",
        "gamma = 0.95 #discount factor\n",
        "epsilon = 1 #used for epsilon greedy\n",
        "epsilon_decay= 0.999 # epsilon decay\n",
        "num_epi= 5000 # number of episodes \n",
        "env = MAGridWorld(6,2)\n",
        "\n",
        "r1,r2 = [],[]\n",
        "rew = [0,0]\n",
        "epsilon_decaying = []\n",
        "\n",
        "for episode in range(num_epi+1):\n",
        "\n",
        "  if episode % 10 == 0:\n",
        "    rew = [i/10 for i in rew]\n",
        "    print(f\"Episode: {episode} Reward: {rew}\")\n",
        "    r1.append(rew[0])\n",
        "    r2.append(rew[1])\n",
        "    epsilon_decaying.append(epsilon)\n",
        "    rew = [0,0]\n",
        "  \n",
        "  # env.reset()\n",
        "\n",
        "  state1, state2 =  env.reset()\n",
        "\n",
        "\n",
        "  state1 = tuple(state1)\n",
        "  state2 = tuple(state2)\n",
        "  \n",
        "  done = [False]*2\n",
        "  t = 0\n",
        "  action1 = 0\n",
        "  action2 = 0\n",
        "  \n",
        "  while (not (done[0] or done[1]) and t<=100):\n",
        "    t+=1\n",
        "    # print(t)\n",
        "    if np.random.uniform(0, 1) < epsilon:\n",
        "      action1 = np.random.randint(5) # Explore action space\n",
        "      action2 = np.random.randint(5)\n",
        "      \n",
        "    else:\n",
        "      action1 = np.argmax(q_table[0][state1]) # Exploit learned values\n",
        "      action2 = np.argmax(q_table[1][state2])\n",
        "      \n",
        "    next_state, reward, done, info = env.step([action1,action2])\n",
        "    \n",
        "    ns1 = next_state[0]\n",
        "    ns2 = next_state[1]\n",
        "    \n",
        "\n",
        "    ns1 = tuple(ns1)\n",
        "    ns2 = tuple(ns2)\n",
        "    \n",
        "    na1 = np.argmax(q_table[0][ns1])\n",
        "    na2 = np.argmax(q_table[1][ns2])\n",
        "\n",
        "    r = sum(reward)\n",
        "\n",
        "    q_table[0][state1][action1] += alpha*( reward[0] + gamma*(q_table[0][ns1][na1] - q_table[0][state1][action1]))\n",
        "    q_table[1][state2][action2] += alpha*( reward[1] + gamma*(q_table[1][ns2][na2] - q_table[1][state2][action2]))\n",
        "   \n",
        "    state1 = ns1\n",
        "    state2 = ns2\n",
        "\n",
        "    rew[0] += reward[0]\n",
        "    rew[1] += reward[1]\n",
        "\n",
        "  epsilon*=epsilon_decay\n"
      ],
      "metadata": {
        "colab": {
          "base_uri": "https://localhost:8080/"
        },
        "id": "OeYkYGFDNELX",
        "outputId": "a9e0a9e6-5f01-4576-f0ff-3990a5ef626a"
      },
      "id": "OeYkYGFDNELX",
      "execution_count": null,
      "outputs": [
        {
          "output_type": "stream",
          "name": "stdout",
          "text": [
            "Episode: 0 Reward: [0.0, 0.0]\n",
            "Episode: 10 Reward: [-8.669999999999991, -7.999999999999997]\n",
            "Episode: 20 Reward: [-8.439999999999996, -8.439999999999994]\n",
            "Episode: 30 Reward: [-8.879999999999992, -8.239999999999998]\n",
            "Episode: 40 Reward: [-7.699999999999993, -8.529999999999992]\n",
            "Episode: 50 Reward: [-8.119999999999996, -8.519999999999996]\n",
            "Episode: 60 Reward: [-8.279999999999998, -7.919999999999997]\n",
            "Episode: 70 Reward: [-8.159999999999995, -7.879999999999997]\n",
            "Episode: 80 Reward: [-7.4, -7.570000000000003]\n",
            "Episode: 90 Reward: [-7.6800000000000015, -7.809999999999995]\n",
            "Episode: 100 Reward: [-8.239999999999998, -7.999999999999995]\n",
            "Episode: 110 Reward: [-7.859999999999998, -7.670000000000002]\n",
            "Episode: 120 Reward: [-7.56, -7.519999999999993]\n",
            "Episode: 130 Reward: [-7.5699999999999985, -8.039999999999994]\n",
            "Episode: 140 Reward: [-6.880000000000007, -6.790000000000006]\n",
            "Episode: 150 Reward: [-7.699999999999991, -7.31]\n",
            "Episode: 160 Reward: [-7.650000000000003, -7.8399999999999945]\n",
            "Episode: 170 Reward: [-7.2200000000000015, -7.500000000000003]\n",
            "Episode: 180 Reward: [-6.87000000000001, -7.420000000000002]\n",
            "Episode: 190 Reward: [-7.579999999999996, -7.410000000000001]\n",
            "Episode: 200 Reward: [-6.670000000000004, -7.2]\n",
            "Episode: 210 Reward: [-6.770000000000003, -6.410000000000011]\n",
            "Episode: 220 Reward: [-6.610000000000005, -6.720000000000008]\n",
            "Episode: 230 Reward: [-6.810000000000007, -7.56]\n",
            "Episode: 240 Reward: [-7.160000000000004, -6.330000000000011]\n",
            "Episode: 250 Reward: [-6.9700000000000015, -5.260000000000008]\n",
            "Episode: 260 Reward: [-6.770000000000005, -6.9500000000000055]\n",
            "Episode: 270 Reward: [-7.2600000000000025, -7.450000000000001]\n",
            "Episode: 280 Reward: [-6.000000000000011, -6.030000000000014]\n",
            "Episode: 290 Reward: [-6.740000000000006, -6.16000000000001]\n",
            "Episode: 300 Reward: [-6.200000000000012, -6.430000000000011]\n",
            "Episode: 310 Reward: [-6.720000000000009, -6.410000000000009]\n",
            "Episode: 320 Reward: [-7.679999999999998, -7.090000000000006]\n",
            "Episode: 330 Reward: [-6.7700000000000085, -6.990000000000005]\n",
            "Episode: 340 Reward: [-6.440000000000012, -6.640000000000008]\n",
            "Episode: 350 Reward: [-5.560000000000011, -4.810000000000011]\n",
            "Episode: 360 Reward: [-5.950000000000012, -5.38000000000001]\n",
            "Episode: 370 Reward: [-6.120000000000011, -6.230000000000012]\n",
            "Episode: 380 Reward: [-5.790000000000012, -5.600000000000011]\n",
            "Episode: 390 Reward: [-6.060000000000011, -6.700000000000008]\n",
            "Episode: 400 Reward: [-5.830000000000012, -5.370000000000011]\n",
            "Episode: 410 Reward: [-5.8300000000000125, -6.110000000000012]\n",
            "Episode: 420 Reward: [-5.12000000000001, -4.630000000000005]\n",
            "Episode: 430 Reward: [-4.930000000000012, -5.71000000000001]\n",
            "Episode: 440 Reward: [-4.4400000000000075, -4.750000000000006]\n",
            "Episode: 450 Reward: [-5.770000000000011, -5.210000000000011]\n",
            "Episode: 460 Reward: [-6.160000000000011, -6.070000000000013]\n",
            "Episode: 470 Reward: [-5.08000000000001, -5.040000000000007]\n",
            "Episode: 480 Reward: [-4.2700000000000085, -4.1400000000000095]\n",
            "Episode: 490 Reward: [-4.210000000000007, -4.550000000000009]\n",
            "Episode: 500 Reward: [-4.020000000000006, -4.210000000000008]\n",
            "Episode: 510 Reward: [-3.8300000000000067, -4.1400000000000095]\n",
            "Episode: 520 Reward: [-4.25000000000001, -4.870000000000008]\n",
            "Episode: 530 Reward: [-4.89000000000001, -4.57000000000001]\n",
            "Episode: 540 Reward: [-2.860000000000004, -2.7000000000000055]\n",
            "Episode: 550 Reward: [-4.690000000000008, -5.070000000000011]\n",
            "Episode: 560 Reward: [-3.9600000000000066, -3.230000000000003]\n",
            "Episode: 570 Reward: [-4.21000000000001, -4.330000000000007]\n",
            "Episode: 580 Reward: [-6.210000000000012, -6.100000000000011]\n",
            "Episode: 590 Reward: [-3.920000000000008, -3.3800000000000074]\n",
            "Episode: 600 Reward: [-3.910000000000005, -3.500000000000007]\n",
            "Episode: 610 Reward: [-4.380000000000008, -3.960000000000009]\n",
            "Episode: 620 Reward: [-4.30000000000001, -4.0100000000000104]\n",
            "Episode: 630 Reward: [-3.6000000000000085, -3.530000000000009]\n",
            "Episode: 640 Reward: [-2.7300000000000053, -3.7300000000000066]\n",
            "Episode: 650 Reward: [-4.410000000000008, -4.480000000000009]\n",
            "Episode: 660 Reward: [-2.8400000000000056, -2.8700000000000068]\n",
            "Episode: 670 Reward: [-3.370000000000007, -3.9800000000000084]\n",
            "Episode: 680 Reward: [-4.480000000000012, -3.980000000000009]\n",
            "Episode: 690 Reward: [-3.5500000000000065, -3.8000000000000065]\n",
            "Episode: 700 Reward: [-3.670000000000009, -3.930000000000008]\n",
            "Episode: 710 Reward: [-3.3900000000000077, -2.7300000000000075]\n",
            "Episode: 720 Reward: [-3.480000000000009, -3.060000000000007]\n",
            "Episode: 730 Reward: [-3.0000000000000053, -3.4600000000000066]\n",
            "Episode: 740 Reward: [-3.7300000000000084, -4.2700000000000085]\n",
            "Episode: 750 Reward: [-2.530000000000006, -2.380000000000003]\n",
            "Episode: 760 Reward: [-2.8000000000000034, -3.1800000000000055]\n",
            "Episode: 770 Reward: [-3.750000000000006, -2.920000000000004]\n",
            "Episode: 780 Reward: [-3.3500000000000094, -3.5300000000000096]\n",
            "Episode: 790 Reward: [-3.7000000000000077, -2.940000000000004]\n",
            "Episode: 800 Reward: [-2.770000000000005, -3.2800000000000056]\n",
            "Episode: 810 Reward: [-2.6500000000000083, -2.7200000000000064]\n",
            "Episode: 820 Reward: [-2.930000000000005, -2.810000000000006]\n",
            "Episode: 830 Reward: [-2.820000000000004, -2.9700000000000037]\n",
            "Episode: 840 Reward: [-2.990000000000005, -3.2600000000000064]\n",
            "Episode: 850 Reward: [-3.1900000000000084, -3.910000000000008]\n",
            "Episode: 860 Reward: [-2.6400000000000032, -3.3600000000000088]\n",
            "Episode: 870 Reward: [-3.220000000000008, -4.000000000000009]\n",
            "Episode: 880 Reward: [-1.9100000000000001, -1.1299999999999983]\n",
            "Episode: 890 Reward: [-2.9200000000000026, -2.9500000000000064]\n",
            "Episode: 900 Reward: [-2.2900000000000023, -3.1600000000000064]\n",
            "Episode: 910 Reward: [-2.690000000000004, -1.7800000000000007]\n",
            "Episode: 920 Reward: [-1.9200000000000004, -1.8999999999999986]\n",
            "Episode: 930 Reward: [-3.0600000000000045, -1.930000000000002]\n",
            "Episode: 940 Reward: [-2.4100000000000015, -2.6700000000000035]\n",
            "Episode: 950 Reward: [-3.2400000000000078, -1.8700000000000032]\n",
            "Episode: 960 Reward: [-2.2900000000000027, -2.3300000000000027]\n",
            "Episode: 970 Reward: [-2.6000000000000045, -2.4800000000000013]\n",
            "Episode: 980 Reward: [-2.3000000000000034, -2.510000000000003]\n",
            "Episode: 990 Reward: [-3.3300000000000067, -2.8700000000000054]\n",
            "Episode: 1000 Reward: [-1.3999999999999975, -2.4700000000000015]\n",
            "Episode: 1010 Reward: [-1.829999999999999, -1.8700000000000003]\n",
            "Episode: 1020 Reward: [-2.180000000000002, -2.900000000000005]\n",
            "Episode: 1030 Reward: [-2.1900000000000026, -2.4100000000000024]\n",
            "Episode: 1040 Reward: [-2.3800000000000026, -2.3400000000000007]\n",
            "Episode: 1050 Reward: [-2.1400000000000032, -2.300000000000003]\n",
            "Episode: 1060 Reward: [-1.5099999999999973, -1.8099999999999998]\n",
            "Episode: 1070 Reward: [-2.5000000000000036, -2.280000000000002]\n",
            "Episode: 1080 Reward: [-2.670000000000003, -2.450000000000003]\n",
            "Episode: 1090 Reward: [-1.5099999999999967, -2.270000000000001]\n",
            "Episode: 1100 Reward: [-1.2599999999999976, -2.090000000000003]\n",
            "Episode: 1110 Reward: [-1.7899999999999985, -1.4799999999999978]\n",
            "Episode: 1120 Reward: [-2.5800000000000027, -2.960000000000002]\n",
            "Episode: 1130 Reward: [-2.4100000000000024, -2.3300000000000027]\n",
            "Episode: 1140 Reward: [-1.8800000000000021, -1.9099999999999997]\n",
            "Episode: 1150 Reward: [-2.9400000000000035, -2.139999999999998]\n",
            "Episode: 1160 Reward: [-1.9400000000000006, -1.5199999999999987]\n",
            "Episode: 1170 Reward: [-2.0899999999999994, -1.859999999999999]\n",
            "Episode: 1180 Reward: [-2.020000000000003, -1.0699999999999983]\n",
            "Episode: 1190 Reward: [-1.8400000000000023, -2.9600000000000066]\n",
            "Episode: 1200 Reward: [-1.9500000000000042, -1.9100000000000008]\n",
            "Episode: 1210 Reward: [-2.4600000000000017, -1.9700000000000029]\n",
            "Episode: 1220 Reward: [-1.920000000000001, -2.1800000000000024]\n",
            "Episode: 1230 Reward: [-1.8400000000000005, -1.5399999999999971]\n",
            "Episode: 1240 Reward: [-2.1899999999999995, -2.490000000000004]\n",
            "Episode: 1250 Reward: [-1.5199999999999974, -2.1199999999999997]\n",
            "Episode: 1260 Reward: [-1.8600000000000017, -0.9599999999999976]\n",
            "Episode: 1270 Reward: [-2.13, -2.150000000000004]\n",
            "Episode: 1280 Reward: [-1.279999999999998, -1.5499999999999978]\n",
            "Episode: 1290 Reward: [-2.24, -1.9]\n",
            "Episode: 1300 Reward: [-1.4699999999999975, -1.4399999999999973]\n",
            "Episode: 1310 Reward: [-2.2600000000000007, -1.3199999999999974]\n",
            "Episode: 1320 Reward: [-1.0299999999999985, -2.240000000000004]\n",
            "Episode: 1330 Reward: [-1.4699999999999982, -1.1699999999999975]\n",
            "Episode: 1340 Reward: [-1.5799999999999974, -1.7]\n",
            "Episode: 1350 Reward: [-1.3099999999999974, -1.1899999999999973]\n",
            "Episode: 1360 Reward: [-1.7199999999999982, -1.2299999999999975]\n",
            "Episode: 1370 Reward: [-2.3600000000000034, -1.499999999999997]\n",
            "Episode: 1380 Reward: [-1.4399999999999973, -1.589999999999998]\n",
            "Episode: 1390 Reward: [-1.929999999999999, -1.6599999999999988]\n",
            "Episode: 1400 Reward: [-1.2599999999999978, -1.7100000000000015]\n",
            "Episode: 1410 Reward: [-2.1900000000000004, -1.3599999999999974]\n",
            "Episode: 1420 Reward: [-2.350000000000006, -2.310000000000005]\n",
            "Episode: 1430 Reward: [-1.7999999999999985, -0.8799999999999979]\n",
            "Episode: 1440 Reward: [-1.94, -1.1499999999999981]\n",
            "Episode: 1450 Reward: [-1.3999999999999981, -1.3899999999999972]\n",
            "Episode: 1460 Reward: [-1.7199999999999982, -0.6699999999999975]\n",
            "Episode: 1470 Reward: [-1.2599999999999973, -1.4899999999999973]\n",
            "Episode: 1480 Reward: [-1.8299999999999996, -0.889999999999999]\n",
            "Episode: 1490 Reward: [-1.4499999999999982, -0.9599999999999982]\n",
            "Episode: 1500 Reward: [-1.2299999999999982, -0.859999999999998]\n",
            "Episode: 1510 Reward: [-1.5799999999999979, -1.4399999999999973]\n",
            "Episode: 1520 Reward: [-1.1599999999999977, -1.1299999999999977]\n",
            "Episode: 1530 Reward: [-1.6199999999999974, -0.40999999999999914]\n",
            "Episode: 1540 Reward: [-1.659999999999998, -1.1699999999999977]\n",
            "Episode: 1550 Reward: [-1.819999999999998, -0.5800000000000001]\n",
            "Episode: 1560 Reward: [-1.3499999999999976, -1.0099999999999987]\n",
            "Episode: 1570 Reward: [-1.2399999999999982, -1.6299999999999977]\n",
            "Episode: 1580 Reward: [-1.4299999999999984, -0.41000000000000014]\n",
            "Episode: 1590 Reward: [-1.5299999999999976, -0.36000000000000015]\n",
            "Episode: 1600 Reward: [-1.5799999999999974, -1.1599999999999973]\n",
            "Episode: 1610 Reward: [-1.3699999999999977, -0.9299999999999976]\n",
            "Episode: 1620 Reward: [-1.7299999999999982, -1.209999999999998]\n",
            "Episode: 1630 Reward: [-1.4599999999999982, -1.1499999999999977]\n",
            "Episode: 1640 Reward: [-1.1699999999999977, -0.5699999999999988]\n",
            "Episode: 1650 Reward: [-1.3899999999999977, -1.1699999999999986]\n",
            "Episode: 1660 Reward: [-1.7800000000000018, -1.6299999999999977]\n",
            "Episode: 1670 Reward: [-1.619999999999998, -1.3199999999999985]\n",
            "Episode: 1680 Reward: [-1.1099999999999983, -1.3799999999999977]\n",
            "Episode: 1690 Reward: [-2.5200000000000076, -1.7800000000000051]\n",
            "Episode: 1700 Reward: [-2.330000000000003, -1.469999999999998]\n",
            "Episode: 1710 Reward: [-1.3199999999999976, -1.019999999999998]\n",
            "Episode: 1720 Reward: [-1.5999999999999985, -1.3699999999999977]\n",
            "Episode: 1730 Reward: [-1.0099999999999987, -0.8599999999999982]\n",
            "Episode: 1740 Reward: [-1.7599999999999993, -1.079999999999997]\n",
            "Episode: 1750 Reward: [-1.1499999999999988, -1.2599999999999976]\n",
            "Episode: 1760 Reward: [-1.4699999999999975, -0.869999999999998]\n",
            "Episode: 1770 Reward: [-1.2699999999999976, -1.0399999999999978]\n",
            "Episode: 1780 Reward: [-1.3199999999999978, -0.5699999999999996]\n",
            "Episode: 1790 Reward: [-1.4199999999999982, -0.5500000000000003]\n",
            "Episode: 1800 Reward: [-1.1099999999999979, -0.5099999999999992]\n",
            "Episode: 1810 Reward: [-1.5699999999999992, -0.9999999999999976]\n",
            "Episode: 1820 Reward: [-1.4599999999999977, -0.6699999999999984]\n",
            "Episode: 1830 Reward: [-1.750000000000001, -1.4499999999999975]\n",
            "Episode: 1840 Reward: [-1.3199999999999985, -0.8699999999999981]\n",
            "Episode: 1850 Reward: [-1.4899999999999984, -1.1499999999999975]\n",
            "Episode: 1860 Reward: [-1.3199999999999978, -1.2099999999999977]\n",
            "Episode: 1870 Reward: [-1.2899999999999983, -0.41999999999999965]\n",
            "Episode: 1880 Reward: [-1.2899999999999978, -0.8799999999999981]\n",
            "Episode: 1890 Reward: [-1.9500000000000015, -0.6699999999999989]\n",
            "Episode: 1900 Reward: [-1.1599999999999977, -0.5600000000000002]\n",
            "Episode: 1910 Reward: [-1.3699999999999979, -0.9199999999999988]\n",
            "Episode: 1920 Reward: [-1.3599999999999977, -0.48999999999999966]\n",
            "Episode: 1930 Reward: [-1.459999999999998, -0.5299999999999983]\n",
            "Episode: 1940 Reward: [-1.1999999999999975, -1.049999999999999]\n",
            "Episode: 1950 Reward: [-1.3699999999999977, -1.0699999999999978]\n",
            "Episode: 1960 Reward: [-1.6499999999999986, -0.5600000000000004]\n",
            "Episode: 1970 Reward: [-1.519999999999998, -0.5799999999999979]\n",
            "Episode: 1980 Reward: [-1.0499999999999985, -1.1299999999999981]\n",
            "Episode: 1990 Reward: [-1.2199999999999982, -0.39000000000000046]\n",
            "Episode: 2000 Reward: [-1.3399999999999983, 0.050000000000000044]\n",
            "Episode: 2010 Reward: [-1.3699999999999979, -1.2499999999999984]\n",
            "Episode: 2020 Reward: [-1.69, -0.7899999999999989]\n",
            "Episode: 2030 Reward: [-1.4899999999999975, -0.2100000000000005]\n",
            "Episode: 2040 Reward: [-1.1599999999999975, -0.8199999999999992]\n",
            "Episode: 2050 Reward: [-1.059999999999998, -0.5699999999999997]\n",
            "Episode: 2060 Reward: [-1.5999999999999992, -1.7100000000000009]\n",
            "Episode: 2070 Reward: [-1.5699999999999976, -0.41000000000000014]\n",
            "Episode: 2080 Reward: [-1.1499999999999981, -0.699999999999999]\n",
            "Episode: 2090 Reward: [-1.3499999999999976, -0.44999999999999946]\n",
            "Episode: 2100 Reward: [-1.2599999999999978, -0.8099999999999984]\n",
            "Episode: 2110 Reward: [-1.309999999999998, -0.5599999999999995]\n",
            "Episode: 2120 Reward: [-0.8399999999999983, -1.1799999999999984]\n",
            "Episode: 2130 Reward: [-1.349999999999998, -0.4500000000000005]\n",
            "Episode: 2140 Reward: [-1.169999999999998, -0.8999999999999979]\n",
            "Episode: 2150 Reward: [-1.1299999999999977, -1.1699999999999986]\n",
            "Episode: 2160 Reward: [-1.1199999999999977, -0.6000000000000002]\n",
            "Episode: 2170 Reward: [-1.329999999999998, -0.4699999999999996]\n",
            "Episode: 2180 Reward: [-1.2899999999999978, -0.6499999999999988]\n",
            "Episode: 2190 Reward: [-1.1699999999999982, -0.7599999999999986]\n",
            "Episode: 2200 Reward: [-0.8099999999999984, -0.55]\n",
            "Episode: 2210 Reward: [-1.2099999999999977, -0.4999999999999997]\n",
            "Episode: 2220 Reward: [-1.5499999999999976, -0.43000000000000005]\n",
            "Episode: 2230 Reward: [-1.729999999999999, -0.5699999999999993]\n",
            "Episode: 2240 Reward: [-1.0599999999999987, -0.6499999999999979]\n",
            "Episode: 2250 Reward: [-1.5099999999999978, -0.050000000000000044]\n",
            "Episode: 2260 Reward: [-1.3999999999999981, -0.4600000000000005]\n",
            "Episode: 2270 Reward: [-1.5799999999999974, -0.5699999999999985]\n",
            "Episode: 2280 Reward: [-1.5599999999999978, -0.539999999999998]\n",
            "Episode: 2290 Reward: [-0.8499999999999984, -0.6199999999999994]\n",
            "Episode: 2300 Reward: [-1.209999999999998, -0.3100000000000005]\n",
            "Episode: 2310 Reward: [-1.7800000000000005, -1.2200000000000002]\n",
            "Episode: 2320 Reward: [-1.1799999999999977, -0.6599999999999986]\n",
            "Episode: 2330 Reward: [-1.6299999999999977, -0.5799999999999995]\n",
            "Episode: 2340 Reward: [-1.1399999999999983, -0.6099999999999998]\n",
            "Episode: 2350 Reward: [-1.4699999999999978, -0.4199999999999996]\n",
            "Episode: 2360 Reward: [-1.209999999999998, -0.4599999999999991]\n",
            "Episode: 2370 Reward: [-1.6599999999999984, -0.45999999999999963]\n",
            "Episode: 2380 Reward: [-1.1699999999999977, -0.5299999999999991]\n",
            "Episode: 2390 Reward: [-0.8799999999999975, -0.7199999999999991]\n",
            "Episode: 2400 Reward: [-0.4299999999999999, -0.21000000000000027]\n",
            "Episode: 2410 Reward: [-0.3000000000000004, -0.22000000000000042]\n",
            "Episode: 2420 Reward: [-0.23000000000000065, -0.6099999999999995]\n",
            "Episode: 2430 Reward: [-0.7299999999999989, -0.6899999999999986]\n",
            "Episode: 2440 Reward: [-0.4399999999999985, -0.55]\n",
            "Episode: 2450 Reward: [-0.3800000000000002, -0.7199999999999983]\n",
            "Episode: 2460 Reward: [-0.49999999999999967, -0.12000000000000002]\n",
            "Episode: 2470 Reward: [-0.28000000000000075, -0.729999999999998]\n",
            "Episode: 2480 Reward: [-0.5099999999999989, -0.21000000000000027]\n",
            "Episode: 2490 Reward: [-0.23000000000000065, -0.6799999999999989]\n",
            "Episode: 2500 Reward: [-0.11000000000000036, -0.6699999999999985]\n",
            "Episode: 2510 Reward: [-0.2100000000000004, -0.35999999999999954]\n",
            "Episode: 2520 Reward: [-0.47999999999999965, -0.7099999999999984]\n",
            "Episode: 2530 Reward: [-0.39999999999999947, -0.3200000000000002]\n",
            "Episode: 2540 Reward: [-0.34, -0.22000000000000056]\n",
            "Episode: 2550 Reward: [-1.189999999999999, -1.9000000000000015]\n",
            "Episode: 2560 Reward: [-0.36999999999999866, -0.9299999999999982]\n",
            "Episode: 2570 Reward: [-0.5499999999999993, -0.739999999999999]\n",
            "Episode: 2580 Reward: [-0.21000000000000069, -0.3200000000000004]\n",
            "Episode: 2590 Reward: [-0.30000000000000054, -0.2600000000000008]\n",
            "Episode: 2600 Reward: [-0.26000000000000056, -0.07000000000000058]\n",
            "Episode: 2610 Reward: [-0.5899999999999989, -0.4699999999999983]\n",
            "Episode: 2620 Reward: [-0.26000000000000073, -0.3699999999999988]\n",
            "Episode: 2630 Reward: [-0.4099999999999996, -0.559999999999999]\n",
            "Episode: 2640 Reward: [-1.0999999999999979, -1.3199999999999978]\n",
            "Episode: 2650 Reward: [-0.9099999999999996, -0.9499999999999996]\n",
            "Episode: 2660 Reward: [-0.3800000000000002, -0.5699999999999993]\n",
            "Episode: 2670 Reward: [-0.5599999999999994, -0.4499999999999994]\n",
            "Episode: 2680 Reward: [-0.3100000000000006, -0.9099999999999978]\n",
            "Episode: 2690 Reward: [-0.47999999999999865, 0.05000000000000003]\n",
            "Episode: 2700 Reward: [-0.2500000000000002, -0.25000000000000056]\n",
            "Episode: 2710 Reward: [0.05000000000000003, -0.3600000000000005]\n",
            "Episode: 2720 Reward: [-0.36999999999999983, -0.40999999999999936]\n",
            "Episode: 2730 Reward: [-0.05, -0.049999999999999954]\n",
            "Episode: 2740 Reward: [-0.6599999999999993, -0.619999999999998]\n",
            "Episode: 2750 Reward: [-0.8700000000000003, -0.7899999999999999]\n",
            "Episode: 2760 Reward: [-0.24000000000000074, -0.4600000000000003]\n",
            "Episode: 2770 Reward: [-0.28000000000000064, -0.4699999999999993]\n",
            "Episode: 2780 Reward: [-0.5199999999999992, -0.32999999999999996]\n",
            "Episode: 2790 Reward: [-0.5399999999999995, -0.41999999999999904]\n",
            "Episode: 2800 Reward: [-0.35999999999999976, -0.4000000000000007]\n",
            "Episode: 2810 Reward: [-0.1500000000000004, -0.36999999999999983]\n",
            "Episode: 2820 Reward: [-0.050000000000000176, -0.3100000000000002]\n",
            "Episode: 2830 Reward: [-0.07000000000000009, -0.22000000000000033]\n",
            "Episode: 2840 Reward: [-0.060000000000000234, 0.050000000000000044]\n",
            "Episode: 2850 Reward: [4.4408920985006264e-17, -0.26000000000000056]\n",
            "Episode: 2860 Reward: [-0.6099999999999984, -0.9799999999999983]\n",
            "Episode: 2870 Reward: [-0.16000000000000064, -0.6799999999999982]\n",
            "Episode: 2880 Reward: [-0.06000000000000072, -0.359999999999999]\n",
            "Episode: 2890 Reward: [-0.11000000000000024, -0.11000000000000024]\n",
            "Episode: 2900 Reward: [-0.1600000000000003, -0.0500000000000004]\n",
            "Episode: 2910 Reward: [-0.22000000000000064, -0.7399999999999984]\n",
            "Episode: 2920 Reward: [-0.22000000000000036, -0.6299999999999987]\n",
            "Episode: 2930 Reward: [-0.5000000000000002, -0.16000000000000017]\n",
            "Episode: 2940 Reward: [-0.12000000000000033, -0.5699999999999998]\n",
            "Episode: 2950 Reward: [-0.15000000000000027, -0.2600000000000006]\n",
            "Episode: 2960 Reward: [-0.9000000000000004, -0.9800000000000006]\n",
            "Episode: 2970 Reward: [-0.2400000000000003, 0.10000000000000005]\n",
            "Episode: 2980 Reward: [-0.25000000000000056, -0.3600000000000001]\n",
            "Episode: 2990 Reward: [-0.17000000000000046, -0.17000000000000046]\n",
            "Episode: 3000 Reward: [-0.24000000000000066, -0.5699999999999987]\n",
            "Episode: 3010 Reward: [-0.30000000000000066, 0.040000000000000036]\n",
            "Episode: 3020 Reward: [0.050000000000000044, 0.050000000000000044]\n",
            "Episode: 3030 Reward: [-0.48, -0.33000000000000007]\n",
            "Episode: 3040 Reward: [-0.17000000000000054, -0.5099999999999992]\n",
            "Episode: 3050 Reward: [-0.16000000000000023, -0.12000000000000063]\n",
            "Episode: 3060 Reward: [-0.15000000000000058, -0.15000000000000044]\n",
            "Episode: 3070 Reward: [0.050000000000000065, 0.050000000000000065]\n",
            "Episode: 3080 Reward: [-0.01000000000000012, -0.41999999999999915]\n",
            "Episode: 3090 Reward: [-0.20000000000000012, -0.010000000000000031]\n",
            "Episode: 3100 Reward: [-0.1900000000000004, -0.11000000000000014]\n",
            "Episode: 3110 Reward: [-0.3500000000000002, -0.4900000000000003]\n",
            "Episode: 3120 Reward: [-0.3700000000000001, -0.07000000000000002]\n",
            "Episode: 3130 Reward: [-0.5799999999999994, -0.45999999999999963]\n",
            "Episode: 3140 Reward: [-0.25000000000000044, -0.060000000000000164]\n",
            "Episode: 3150 Reward: [-0.2700000000000006, -0.5299999999999994]\n",
            "Episode: 3160 Reward: [-0.010000000000000031, -0.30999999999999994]\n",
            "Episode: 3170 Reward: [-0.05000000000000029, 0.10000000000000005]\n",
            "Episode: 3180 Reward: [-0.11000000000000001, -0.3700000000000002]\n",
            "Episode: 3190 Reward: [-0.2700000000000005, -0.489999999999999]\n",
            "Episode: 3200 Reward: [-0.05000000000000058, -0.2700000000000008]\n",
            "Episode: 3210 Reward: [-0.26000000000000045, -0.6699999999999988]\n",
            "Episode: 3220 Reward: [0.10000000000000005, -0.050000000000000176]\n",
            "Episode: 3230 Reward: [-0.05000000000000045, -0.050000000000000044]\n",
            "Episode: 3240 Reward: [-0.1400000000000003, -0.13999999999999999]\n",
            "Episode: 3250 Reward: [-0.3000000000000001, -0.5199999999999984]\n",
            "Episode: 3260 Reward: [-0.05, -0.46000000000000013]\n",
            "Episode: 3270 Reward: [-0.3999999999999999, -0.32000000000000006]\n",
            "Episode: 3280 Reward: [-0.16000000000000042, -0.2700000000000004]\n",
            "Episode: 3290 Reward: [0.04000000000000005, -0.15]\n",
            "Episode: 3300 Reward: [4.4408920985006264e-17, 4.4408920985006264e-17]\n",
            "Episode: 3310 Reward: [-0.18000000000000008, -0.22000000000000006]\n",
            "Episode: 3320 Reward: [0.10000000000000005, -0.05000000000000053]\n",
            "Episode: 3330 Reward: [-0.059999999999999956, -0.2500000000000001]\n",
            "Episode: 3340 Reward: [0.040000000000000036, 0.040000000000000036]\n",
            "Episode: 3350 Reward: [-0.11000000000000018, -0.22000000000000025]\n",
            "Episode: 3360 Reward: [-0.25000000000000067, -0.17000000000000076]\n",
            "Episode: 3370 Reward: [-0.2600000000000008, -0.3300000000000005]\n",
            "Episode: 3380 Reward: [-0.06000000000000001, -0.2100000000000004]\n",
            "Episode: 3390 Reward: [-0.06000000000000001, -0.17000000000000007]\n",
            "Episode: 3400 Reward: [8.881784197001253e-17, 8.881784197001253e-17]\n",
            "Episode: 3410 Reward: [0.050000000000000044, -0.060000000000000234]\n",
            "Episode: 3420 Reward: [-0.05000000000000062, -0.050000000000000044]\n",
            "Episode: 3430 Reward: [-0.010000000000000009, -0.3499999999999995]\n",
            "Episode: 3440 Reward: [-0.2400000000000005, -0.4599999999999998]\n",
            "Episode: 3450 Reward: [0.050000000000000065, -0.25000000000000056]\n",
            "Episode: 3460 Reward: [-0.12000000000000077, -0.16000000000000075]\n",
            "Episode: 3470 Reward: [6.661338147750939e-17, 6.661338147750939e-17]\n",
            "Episode: 3480 Reward: [-0.049999999999999954, -0.050000000000000114]\n",
            "Episode: 3490 Reward: [-0.019999999999999973, -0.019999999999999973]\n",
            "Episode: 3500 Reward: [-0.060000000000000143, -0.09999999999999995]\n",
            "Episode: 3510 Reward: [-0.15000000000000022, -0.26000000000000045]\n",
            "Episode: 3520 Reward: [-0.2800000000000007, -0.36000000000000015]\n",
            "Episode: 3530 Reward: [-0.060000000000000164, -0.09999999999999996]\n",
            "Episode: 3540 Reward: [0.050000000000000044, 0.050000000000000044]\n",
            "Episode: 3550 Reward: [4.4408920985006264e-17, -0.2600000000000004]\n",
            "Episode: 3560 Reward: [-0.14000000000000057, 0.050000000000000044]\n",
            "Episode: 3570 Reward: [-0.05, -0.16000000000000045]\n",
            "Episode: 3580 Reward: [0.10000000000000005, 0.10000000000000005]\n",
            "Episode: 3590 Reward: [-0.14000000000000073, 0.049999999999999975]\n",
            "Episode: 3600 Reward: [0.050000000000000065, -0.10000000000000045]\n",
            "Episode: 3610 Reward: [-0.31000000000000005, -0.16000000000000014]\n",
            "Episode: 3620 Reward: [0.05000000000000003, 0.05000000000000003]\n",
            "Episode: 3630 Reward: [-0.24000000000000057, -0.20000000000000034]\n",
            "Episode: 3640 Reward: [-0.009999999999999943, -0.009999999999999964]\n",
            "Episode: 3650 Reward: [-0.009999999999999943, -0.2700000000000002]\n",
            "Episode: 3660 Reward: [4.4408920985006264e-17, -0.36999999999999994]\n",
            "Episode: 3670 Reward: [-1.1102230246251565e-16, -1.1102230246251565e-16]\n",
            "Episode: 3680 Reward: [0.05000000000000006, 0.05000000000000006]\n",
            "Episode: 3690 Reward: [-0.4099999999999997, 8.881784197001253e-17]\n",
            "Episode: 3700 Reward: [-0.10000000000000045, -0.10000000000000053]\n",
            "Episode: 3710 Reward: [-0.11000000000000014, -0.2600000000000003]\n",
            "Episode: 3720 Reward: [-0.33999999999999986, -0.15000000000000044]\n",
            "Episode: 3730 Reward: [-0.01000000000000012, -0.01000000000000012]\n",
            "Episode: 3740 Reward: [0.050000000000000024, -0.10000000000000031]\n",
            "Episode: 3750 Reward: [-0.09000000000000075, 0.10000000000000005]\n",
            "Episode: 3760 Reward: [0.10000000000000005, 0.10000000000000005]\n",
            "Episode: 3770 Reward: [0.05000000000000003, -0.10000000000000049]\n",
            "Episode: 3780 Reward: [0.10000000000000005, 0.10000000000000005]\n",
            "Episode: 3790 Reward: [-0.2800000000000006, -0.05000000000000036]\n",
            "Episode: 3800 Reward: [-0.05, 0.10000000000000005]\n",
            "Episode: 3810 Reward: [-0.3499999999999998, -0.050000000000000086]\n",
            "Episode: 3820 Reward: [-0.22000000000000056, -2.2204460492503132e-17]\n",
            "Episode: 3830 Reward: [-0.060000000000000143, -0.10000000000000027]\n",
            "Episode: 3840 Reward: [-0.93, -0.89]\n",
            "Episode: 3850 Reward: [0.10000000000000005, -0.05]\n",
            "Episode: 3860 Reward: [-0.05000000000000053, 0.10000000000000005]\n",
            "Episode: 3870 Reward: [-0.050000000000000024, -0.05]\n",
            "Episode: 3880 Reward: [0.10000000000000005, -0.050000000000000114]\n",
            "Episode: 3890 Reward: [0.10000000000000005, 0.10000000000000005]\n",
            "Episode: 3900 Reward: [-0.15000000000000013, 0.04000000000000007]\n",
            "Episode: 3910 Reward: [0.10000000000000005, 0.10000000000000005]\n",
            "Episode: 3920 Reward: [0.04, 0.04]\n",
            "Episode: 3930 Reward: [0.10000000000000005, 0.10000000000000005]\n",
            "Episode: 3940 Reward: [0.040000000000000036, 0.040000000000000036]\n",
            "Episode: 3950 Reward: [0.10000000000000005, 0.10000000000000005]\n",
            "Episode: 3960 Reward: [-0.05000000000000045, -0.049999999999999954]\n",
            "Episode: 3970 Reward: [-0.1600000000000001, -0.12000000000000015]\n",
            "Episode: 3980 Reward: [0.050000000000000044, 0.050000000000000044]\n",
            "Episode: 3990 Reward: [6.661338147750939e-17, -0.1100000000000001]\n",
            "Episode: 4000 Reward: [0.10000000000000005, 0.10000000000000005]\n",
            "Episode: 4010 Reward: [0.050000000000000044, -0.06000000000000059]\n",
            "Episode: 4020 Reward: [-0.01000000000000032, -0.010000000000000297]\n",
            "Episode: 4030 Reward: [-0.010000000000000075, -0.050000000000000246]\n",
            "Episode: 4040 Reward: [0.10000000000000005, 0.10000000000000005]\n",
            "Episode: 4050 Reward: [0.04000000000000005, 2.2204460492503132e-17]\n",
            "Episode: 4060 Reward: [0.10000000000000005, 0.10000000000000005]\n",
            "Episode: 4070 Reward: [0.10000000000000005, 0.10000000000000005]\n",
            "Episode: 4080 Reward: [-0.009999999999999964, -0.3100000000000006]\n",
            "Episode: 4090 Reward: [0.04000000000000005, 2.2204460492503132e-17]\n",
            "Episode: 4100 Reward: [-0.060000000000000143, -0.17000000000000023]\n",
            "Episode: 4110 Reward: [-0.1500000000000003, 0.04000000000000005]\n",
            "Episode: 4120 Reward: [0.04000000000000007, -0.15000000000000008]\n",
            "Episode: 4130 Reward: [0.050000000000000044, -0.06000000000000032]\n",
            "Episode: 4140 Reward: [0.05000000000000003, -0.060000000000000143]\n",
            "Episode: 4150 Reward: [-0.1000000000000004, -0.1000000000000004]\n",
            "Episode: 4160 Reward: [0.10000000000000005, 0.10000000000000005]\n",
            "Episode: 4170 Reward: [0.050000000000000024, -0.060000000000000074]\n",
            "Episode: 4180 Reward: [0.10000000000000005, -0.05000000000000062]\n",
            "Episode: 4190 Reward: [0.10000000000000005, 0.10000000000000005]\n",
            "Episode: 4200 Reward: [4.4408920985006264e-17, -0.11000000000000014]\n",
            "Episode: 4210 Reward: [0.050000000000000044, 0.050000000000000044]\n",
            "Episode: 4220 Reward: [0.050000000000000024, -0.060000000000000074]\n",
            "Episode: 4230 Reward: [0.05000000000000003, -0.09999999999999995]\n",
            "Episode: 4240 Reward: [0.050000000000000024, 0.050000000000000024]\n",
            "Episode: 4250 Reward: [0.10000000000000005, 0.10000000000000005]\n",
            "Episode: 4260 Reward: [-0.09000000000000004, -0.05000000000000062]\n",
            "Episode: 4270 Reward: [0.03999999999999996, 0.03999999999999996]\n",
            "Episode: 4280 Reward: [-0.10000000000000017, -0.06000000000000059]\n",
            "Episode: 4290 Reward: [6.661338147750939e-17, -0.11000000000000054]\n",
            "Episode: 4300 Reward: [0.05000000000000003, 0.05000000000000003]\n",
            "Episode: 4310 Reward: [0.10000000000000005, 0.10000000000000005]\n",
            "Episode: 4320 Reward: [-0.050000000000000266, 0.10000000000000005]\n",
            "Episode: 4330 Reward: [0.050000000000000044, 0.050000000000000044]\n",
            "Episode: 4340 Reward: [0.03999999999999996, -0.30000000000000054]\n",
            "Episode: 4350 Reward: [4.4408920985006264e-17, 4.4408920985006264e-17]\n",
            "Episode: 4360 Reward: [-0.24000000000000044, 0.10000000000000005]\n",
            "Episode: 4370 Reward: [-0.13999999999999999, -0.060000000000000074]\n",
            "Episode: 4380 Reward: [0.10000000000000005, 0.10000000000000005]\n",
            "Episode: 4390 Reward: [0.10000000000000005, 0.10000000000000005]\n",
            "Episode: 4400 Reward: [0.10000000000000005, 0.10000000000000005]\n",
            "Episode: 4410 Reward: [-0.05000000000000036, -0.05000000000000062]\n",
            "Episode: 4420 Reward: [0.050000000000000065, 0.050000000000000044]\n",
            "Episode: 4430 Reward: [-0.07000000000000003, -0.07000000000000003]\n",
            "Episode: 4440 Reward: [0.10000000000000005, 0.10000000000000005]\n",
            "Episode: 4450 Reward: [0.10000000000000005, 0.10000000000000005]\n",
            "Episode: 4460 Reward: [0.10000000000000005, 0.10000000000000005]\n",
            "Episode: 4470 Reward: [0.10000000000000005, 0.10000000000000005]\n",
            "Episode: 4480 Reward: [0.05000000000000003, -0.060000000000000074]\n",
            "Episode: 4490 Reward: [-0.009999999999999964, -0.009999999999999964]\n",
            "Episode: 4500 Reward: [-0.06000000000000041, 0.050000000000000044]\n",
            "Episode: 4510 Reward: [-0.050000000000000135, -0.05000000000000036]\n",
            "Episode: 4520 Reward: [0.10000000000000005, 0.10000000000000005]\n",
            "Episode: 4530 Reward: [0.10000000000000005, 0.10000000000000005]\n",
            "Episode: 4540 Reward: [-0.09000000000000004, 0.10000000000000005]\n",
            "Episode: 4550 Reward: [0.04000000000000005, 0.04000000000000005]\n",
            "Episode: 4560 Reward: [0.05000000000000003, 0.05000000000000003]\n",
            "Episode: 4570 Reward: [0.10000000000000005, 0.10000000000000005]\n",
            "Episode: 4580 Reward: [0.10000000000000005, -0.050000000000000044]\n",
            "Episode: 4590 Reward: [0.040000000000000036, 0.040000000000000036]\n",
            "Episode: 4600 Reward: [-0.05000000000000036, 0.10000000000000005]\n",
            "Episode: 4610 Reward: [0.050000000000000044, -0.06000000000000059]\n",
            "Episode: 4620 Reward: [-0.19000000000000056, -0.11000000000000006]\n",
            "Episode: 4630 Reward: [-0.060000000000000255, -0.3200000000000006]\n",
            "Episode: 4640 Reward: [0.10000000000000005, 0.10000000000000005]\n",
            "Episode: 4650 Reward: [0.10000000000000005, 0.10000000000000005]\n",
            "Episode: 4660 Reward: [0.10000000000000005, 0.10000000000000005]\n",
            "Episode: 4670 Reward: [0.10000000000000005, 0.10000000000000005]\n",
            "Episode: 4680 Reward: [0.10000000000000005, 0.10000000000000005]\n",
            "Episode: 4690 Reward: [0.04000000000000007, 2.2204460492503132e-17]\n",
            "Episode: 4700 Reward: [0.10000000000000005, 0.10000000000000005]\n",
            "Episode: 4710 Reward: [-0.08999999999999994, 0.10000000000000005]\n",
            "Episode: 4720 Reward: [-0.929999999999999, -0.889999999999999]\n",
            "Episode: 4730 Reward: [-0.010000000000000031, -0.12000000000000033]\n",
            "Episode: 4740 Reward: [0.10000000000000005, 0.10000000000000005]\n",
            "Episode: 4750 Reward: [0.10000000000000005, 0.10000000000000005]\n",
            "Episode: 4760 Reward: [0.050000000000000065, -0.21000000000000046]\n",
            "Episode: 4770 Reward: [0.10000000000000005, -0.050000000000000044]\n",
            "Episode: 4780 Reward: [0.10000000000000005, 0.10000000000000005]\n",
            "Episode: 4790 Reward: [-0.049999999999999954, -0.09000000000000039]\n",
            "Episode: 4800 Reward: [0.10000000000000005, 0.10000000000000005]\n",
            "Episode: 4810 Reward: [-0.13999999999999999, 0.050000000000000024]\n",
            "Episode: 4820 Reward: [0.10000000000000005, 0.10000000000000005]\n",
            "Episode: 4830 Reward: [0.04000000000000005, -8.881784197001253e-17]\n",
            "Episode: 4840 Reward: [0.10000000000000005, 0.10000000000000005]\n",
            "Episode: 4850 Reward: [0.10000000000000005, 0.10000000000000005]\n",
            "Episode: 4860 Reward: [0.10000000000000005, 0.10000000000000005]\n",
            "Episode: 4870 Reward: [0.10000000000000005, 0.10000000000000005]\n",
            "Episode: 4880 Reward: [0.10000000000000005, 0.10000000000000005]\n",
            "Episode: 4890 Reward: [-0.0900000000000003, 0.10000000000000005]\n",
            "Episode: 4900 Reward: [0.10000000000000005, 0.10000000000000005]\n",
            "Episode: 4910 Reward: [0.10000000000000005, 0.10000000000000005]\n",
            "Episode: 4920 Reward: [0.10000000000000005, 0.10000000000000005]\n",
            "Episode: 4930 Reward: [-0.10999999999999995, 6.661338147750939e-17]\n",
            "Episode: 4940 Reward: [0.03999999999999994, -3.108624468950438e-16]\n",
            "Episode: 4950 Reward: [0.10000000000000005, 0.10000000000000005]\n",
            "Episode: 4960 Reward: [-0.8299999999999974, -0.7899999999999974]\n",
            "Episode: 4970 Reward: [-0.10000000000000062, -0.2800000000000006]\n",
            "Episode: 4980 Reward: [0.10000000000000005, 0.10000000000000005]\n",
            "Episode: 4990 Reward: [0.10000000000000005, 0.10000000000000005]\n",
            "Episode: 5000 Reward: [0.10000000000000005, 0.10000000000000005]\n"
          ]
        }
      ]
    },
    {
      "cell_type": "code",
      "source": [
        "import matplotlib.pyplot as plt\n",
        "\n",
        "plt.figure(figsize=(16,14))\n",
        "plt.suptitle(\"Rewards of Agents\")\n",
        "window = 10\n",
        "\n",
        "plt.subplot(3,2,1)\n",
        "plt.plot(r1)\n",
        "average_r1 = []\n",
        "for ind in range(len(r1) - window + 1):\n",
        "  average_r1.append(np.mean(r1[ind:ind+window]))\n",
        "plt.plot(average_r1)\n",
        "plt.title(\"Agent 1\")\n",
        "plt.xlabel(\"x10 Number of episodes\")\n",
        "plt.ylabel(\"Average reward\")\n",
        "plt.legend([\"Rewards\",\"Running Average\"])\n",
        "\n",
        "plt.subplot(3,2,2)\n",
        "plt.plot(r2)\n",
        "average_r2 = []\n",
        "for ind in range(len(r2) - window + 1):\n",
        "  average_r2.append(np.mean(r2[ind:ind+window]))\n",
        "plt.plot(average_r2)\n",
        "plt.title(\"Agent 2\")\n",
        "plt.xlabel(\"x10 Number of episodes\")\n",
        "plt.ylabel(\"Average reward\")\n",
        "plt.legend([\"Rewards\",\"Running Average\"])\n",
        "\n",
        "plt.subplot(3,2,3)\n",
        "plt.plot(average_r1)\n",
        "plt.plot(average_r2)\n",
        "plt.title(\"Comparison of Agents\")\n",
        "plt.xlabel(\"x10 Number of episodes\")\n",
        "plt.ylabel(\"Average reward\")\n",
        "plt.legend([\"Agent-1\",\"Agent-2\"])\n",
        "\n",
        "plt.subplot(3,2,4)\n",
        "plt.plot(epsilon_decaying)\n",
        "plt.title(\"Epsilon Decay\")\n",
        "plt.xlabel(\"x10 Number of episodes\")\n",
        "plt.ylabel(\"Epsilon\")"
      ],
      "metadata": {
        "colab": {
          "base_uri": "https://localhost:8080/",
          "height": 672
        },
        "id": "c83mQcXzrWyt",
        "outputId": "c54c3bda-6526-4175-d017-4c95b18fcd89"
      },
      "id": "c83mQcXzrWyt",
      "execution_count": null,
      "outputs": [
        {
          "output_type": "execute_result",
          "data": {
            "text/plain": [
              "Text(0, 0.5, 'Epsilon')"
            ]
          },
          "metadata": {},
          "execution_count": 23
        },
        {
          "output_type": "display_data",
          "data": {
            "text/plain": [
              "<Figure size 1152x1008 with 4 Axes>"
            ],
            "image/png": "[encoded data removed]"
          },
          "metadata": {
            "needs_background": "light"
          }
        }
      ]
    },
    {
      "cell_type": "markdown",
      "source": [
        "1.The above graph shows the average reward vs episode of the agents for 10 episodes.The performance of the agent-1 increases as the number of episode increases.The environment learns.\n",
        "2.for agent-2 the graph shows the average reward vsa number of episodes where the number of episode is 10.\n",
        "3.The 3rd graph shows the comparison between the performance of agent 1 and agent 2 both agent perform increases over the episodes.Finally, we conclude that agent 2 performs well over the number of episodes.\n",
        "4.The 4th graph shows the epsilon decay.the epsilon decay graph decays over the number of episode.\n"
      ],
      "metadata": {
        "id": "GzINpluOgZXM"
      },
      "id": "GzINpluOgZXM"
    },
    {
      "cell_type": "markdown",
      "source": [
        "Evaluation"
      ],
      "metadata": {
        "id": "5WYON_2b1X0o"
      },
      "id": "5WYON_2b1X0o"
    },
    {
      "cell_type": "code",
      "source": [
        "num_epi= 10#the number of episodes are 10\n",
        "alpha = 0.01 #learning rate \n",
        "gamma = 0.95 #discount factor\n",
        "epsilon = 1 #used for epsilon greedy\n",
        "epsilon_decay= 0.999 # epsilon decay\n",
        "env = MAGridWorld(6,2)\n",
        "\n",
        "rew = [0,0]\n",
        "r1,r2 = [],[]\n",
        "\n",
        "for episode in range(num_epi):\n",
        "\n",
        "  if episode>0 and episode % 1 == 0:\n",
        "    print(f\"Episode: {episode} Reward: {rew}\")\n",
        "    r1.append(rew[0])\n",
        "    r2.append(rew[1])\n",
        "    rew = [0,0]\n",
        "\n",
        "  state1, state2 =  env.reset()\n",
        "\n",
        "  state1 = tuple(state1)\n",
        "  state2 = tuple(state2)\n",
        "  \n",
        "  done = [False]*2\n",
        "  t = 0\n",
        "  action1 = 0\n",
        "  action2 = 0\n",
        " \n",
        "  while (not (done[0] or done[1]) and t<=100):\n",
        "    t+=1\n",
        "    action1 = np.argmax(q_table[0][state1]) # Exploit learned values\n",
        "    action2 = np.argmax(q_table[1][state2])\n",
        "      \n",
        "    next_state, reward, done, info = env.step([action1,action2])\n",
        "    \n",
        "    ns1 = next_state[0]\n",
        "    ns2 = next_state[1]\n",
        "    \n",
        "    ns1 = tuple(ns1)\n",
        "    ns2 = tuple(ns2)\n",
        "    \n",
        "    na1 = np.argmax(q_table[0][ns1])\n",
        "    na2 = np.argmax(q_table[1][ns2])\n",
        "    \n",
        "    state1 = ns1\n",
        "    state2 = ns2\n",
        "\n",
        "    rew[0] += reward[0]\n",
        "    rew[1] += reward[1]"
      ],
      "metadata": {
        "colab": {
          "base_uri": "https://localhost:8080/"
        },
        "id": "kVdFrwl_90za",
        "outputId": "d824bd39-e73b-4f00-d17a-c3af4c784ae6"
      },
      "id": "kVdFrwl_90za",
      "execution_count": null,
      "outputs": [
        {
          "output_type": "stream",
          "name": "stdout",
          "text": [
            "Episode: 1 Reward: [0.10000000000000009, 0.10000000000000009]\n",
            "Episode: 2 Reward: [0.10000000000000009, 0.10000000000000009]\n",
            "Episode: 3 Reward: [0.10000000000000009, 0.10000000000000009]\n",
            "Episode: 4 Reward: [0.10000000000000009, 0.10000000000000009]\n",
            "Episode: 5 Reward: [0.10000000000000009, 0.10000000000000009]\n",
            "Episode: 6 Reward: [0.10000000000000009, 0.10000000000000009]\n",
            "Episode: 7 Reward: [0.10000000000000009, 0.10000000000000009]\n",
            "Episode: 8 Reward: [0.10000000000000009, 0.10000000000000009]\n",
            "Episode: 9 Reward: [0.10000000000000009, 0.10000000000000009]\n"
          ]
        }
      ]
    },
    {
      "cell_type": "code",
      "source": [
        "import matplotlib.pyplot as plt\n",
        "\n",
        "plt.figure(figsize=(16,14))\n",
        "plt.suptitle(\"Rewards of Agents\")\n",
        "window = 10\n",
        "\n",
        "plt.subplot(3,2,1)\n",
        "plt.plot(r1)\n",
        "plt.title(\"Agent 1\")\n",
        "plt.xlabel(\"Number of episodes\")\n",
        "plt.ylabel(\"Reward per Episode\")\n",
        "\n",
        "\n",
        "plt.subplot(3,2,2)\n",
        "plt.plot(r2)\n",
        "plt.title(\"Agent 2\")\n",
        "plt.xlabel(\"Number of episodes\")\n",
        "plt.ylabel(\"Reward per Episode\")"
      ],
      "metadata": {
        "colab": {
          "base_uri": "https://localhost:8080/",
          "height": 404
        },
        "id": "qByaF-dY_pwe",
        "outputId": "342d7a98-4976-442d-a4de-a169ec9a8f3d"
      },
      "id": "qByaF-dY_pwe",
      "execution_count": null,
      "outputs": [
        {
          "output_type": "execute_result",
          "data": {
            "text/plain": [
              "Text(0, 0.5, 'Reward per Episode')"
            ]
          },
          "metadata": {},
          "execution_count": 39
        },
        {
          "output_type": "display_data",
          "data": {
            "text/plain": [
              "<Figure size 1152x1008 with 2 Axes>"
            ],
            "image/png": "[encoded data removed]"
          },
          "metadata": {
            "needs_background": "light"
          }
        }
      ]
    },
    {
      "cell_type": "markdown",
      "source": [
        "Visualization"
      ],
      "metadata": {
        "id": "huwtUq-y9w8q"
      },
      "id": "huwtUq-y9w8q"
    },
    {
      "cell_type": "code",
      "source": [
        "num_epi= 1                        #During the episode the agents learns the environemnt and reaches the goals.\n",
        "env = MAGridWorld(6,2)\n",
        "\n",
        "for episode in range(num_epi):\n",
        "  state1, state2 =  env.reset()\n",
        "\n",
        "  state1 = tuple(state1)\n",
        "  state2 = tuple(state2)\n",
        "  \n",
        "  done = [False]*2\n",
        "  t = 0\n",
        "  action1 = 0\n",
        "  action2 = 0\n",
        " \n",
        "  while (not (done[0] or done[1]) and t<=100):\n",
        "    t+=1\n",
        "\n",
        "    action1 = np.argmax(q_table[0][state1]) # Exploit learned values\n",
        "    action2 = np.argmax(q_table[1][state2])\n",
        "      \n",
        "    next_state, reward, done, info = env.step([action1,action2])\n",
        "    \n",
        "    ns1 = next_state[0]\n",
        "    ns2 = next_state[1]\n",
        "    \n",
        "    ns1 = tuple(ns1)\n",
        "    ns2 = tuple(ns2)\n",
        "    \n",
        "    na1 = np.argmax(q_table[0][ns1])\n",
        "    na2 = np.argmax(q_table[1][ns2])\n",
        "    \n",
        "    state1 = ns1\n",
        "    state2 = ns2\n",
        "\n",
        "    plt.figure()\n",
        "    env.render()   "
      ],
      "metadata": {
        "colab": {
          "base_uri": "https://localhost:8080/",
          "height": 1000
        },
        "id": "yv9cA_YkugNr",
        "outputId": "7ccf916a-287a-4407-fbc3-e97f8948d501"
      },
      "id": "yv9cA_YkugNr",
      "execution_count": null,
      "outputs": [
        {
          "output_type": "display_data",
          "data": {
            "text/plain": [
              "<Figure size 432x288 with 1 Axes>"
            ],
            "image/png": "[encoded data removed]"
          },
          "metadata": {
            "needs_background": "light"
          }
        },
        {
          "output_type": "display_data",
          "data": {
            "text/plain": [
              "<Figure size 432x288 with 1 Axes>"
            ],
            "image/png": "[encoded data removed]"
          },
          "metadata": {
            "needs_background": "light"
          }
        },
        {
          "output_type": "display_data",
          "data": {
            "text/plain": [
              "<Figure size 432x288 with 1 Axes>"
            ],
            "image/png": "[encoded data removed]"
          },
          "metadata": {
            "needs_background": "light"
          }
        },
        {
          "output_type": "display_data",
          "data": {
            "text/plain": [
              "<Figure size 432x288 with 1 Axes>"
            ],
            "image/png": "[encoded data removed]"
          },
          "metadata": {
            "needs_background": "light"
          }
        },
        {
          "output_type": "display_data",
          "data": {
            "text/plain": [
              "<Figure size 432x288 with 1 Axes>"
            ],
            "image/png": "[encoded data removed]"
          },
          "metadata": {
            "needs_background": "light"
          }
        },
        {
          "output_type": "display_data",
          "data": {
            "text/plain": [
              "<Figure size 432x288 with 1 Axes>"
            ],
            "image/png": "[encoded data removed]"
          },
          "metadata": {
            "needs_background": "light"
          }
        },
        {
          "output_type": "display_data",
          "data": {
            "text/plain": [
              "<Figure size 432x288 with 1 Axes>"
            ],
            "image/png": "[encoded data removed]"
          },
          "metadata": {
            "needs_background": "light"
          }
        },
        {
          "output_type": "display_data",
          "data": {
            "text/plain": [
              "<Figure size 432x288 with 1 Axes>"
            ],
            "image/png": "[encoded data removed]"
          },
          "metadata": {
            "needs_background": "light"
          }
        },
        {
          "output_type": "display_data",
          "data": {
            "text/plain": [
              "<Figure size 432x288 with 1 Axes>"
            ],
            "image/png": "[encoded data removed]"
          },
          "metadata": {
            "needs_background": "light"
          }
        },
        {
          "output_type": "display_data",
          "data": {
            "text/plain": [
              "<Figure size 432x288 with 1 Axes>"
            ],
            "image/png": "[encoded data removed]"
          },
          "metadata": {
            "needs_background": "light"
          }
        }
      ]
    }
  ],
  "metadata": {
    "kernelspec": {
      "display_name": "Python 3",
      "language": "python",
      "name": "python3"
    },
    "language_info": {
      "codemirror_mode": {
        "name": "ipython",
        "version": 3
      },
      "file_extension": ".py",
      "mimetype": "text/x-python",
      "name": "python",
      "nbconvert_exporter": "python",
      "pygments_lexer": "ipython3",
      "version": "3.8.8"
    },
    "colab": {
      "provenance": [],
      "collapsed_sections": []
    }
  },
  "nbformat": 4,
  "nbformat_minor": 5
}